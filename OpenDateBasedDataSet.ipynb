{
  "nbformat": 4,
  "nbformat_minor": 0,
  "metadata": {
    "colab": {
      "name": "OpenDateBasedDataSet.ipynb",
      "provenance": [],
      "collapsed_sections": [],
      "authorship_tag": "ABX9TyOH+ftq1h0Lwk557MXPla7W",
      "include_colab_link": true
    },
    "kernelspec": {
      "name": "python3",
      "display_name": "Python 3"
    }
  },
  "cells": [
    {
      "cell_type": "markdown",
      "metadata": {
        "id": "view-in-github",
        "colab_type": "text"
      },
      "source": [
        "<a href=\"https://colab.research.google.com/github/CatimusPrime/MachineLearning/blob/master/OpenDateBasedDataSet.ipynb\" target=\"_parent\"><img src=\"https://colab.research.google.com/assets/colab-badge.svg\" alt=\"Open In Colab\"/></a>"
      ]
    },
    {
      "cell_type": "code",
      "metadata": {
        "id": "TyYBdoLzxYjK",
        "colab_type": "code",
        "colab": {}
      },
      "source": [
        "import pandas as pd\n",
        "\n",
        "from pydrive.auth import GoogleAuth\n",
        "from pydrive.drive import GoogleDrive\n",
        "from google.colab import auth\n",
        "from oauth2client.client import GoogleCredentials\n",
        "from oauth2client.client import GoogleCredentials\n",
        "\n",
        "#file_id = '1Xc0UXq85rzY7ZYnl-HJ5JF4nc3SuEuHq' #No Region Or Year '1i207eRSm-sQ4gGLFKhG9L5kzDVDhnLVl'\n"
      ],
      "execution_count": 0,
      "outputs": []
    },
    {
      "cell_type": "code",
      "metadata": {
        "id": "UkVUKHmx7nJI",
        "colab_type": "code",
        "colab": {}
      },
      "source": [
        "class OpenDateBasedDataFrame:\n",
        "\n",
        "  def __init__(self, fileId):\n",
        "    self.file_id = fileId\n"
      ],
      "execution_count": 0,
      "outputs": []
    },
    {
      "cell_type": "code",
      "metadata": {
        "id": "_NUSKtUb7u9U",
        "colab_type": "code",
        "colab": {}
      },
      "source": [
        "  def authenticate():\n",
        "    # Authenticate and create the PyDrive client.\n",
        "    # This only needs to be done once per notebook.\n",
        "    auth.authenticate_user()\n",
        "    gauth = GoogleAuth()\n",
        "    gauth.credentials = GoogleCredentials.get_application_default()\n",
        "    drive = GoogleDrive(gauth)"
      ],
      "execution_count": 0,
      "outputs": []
    },
    {
      "cell_type": "code",
      "metadata": {
        "id": "52rQKzJf7y9J",
        "colab_type": "code",
        "colab": {}
      },
      "source": [
        "  def getDataFrame(cols, filename, dateIndexColName):\n",
        "    try:\n",
        "      authenticate()\n",
        "      data_file_meta = drive.CreateFile({'id':self.file_id})\n",
        "      data_file_meta.GetContentFile(filename)\n",
        "\n",
        "      mydateparser = lambda x: pd.datetime.strptime(x, '%Y-%m-%d')\n",
        "      \n",
        "      df = pd.read_csv(filename, \n",
        "                      header=0, \n",
        "                      parse_dates=[dateIndexColName], \n",
        "                      date_parser=mydateparser, \n",
        "                      index_col=[dateIndexColName],\n",
        "                      usecols=cols)\n",
        "    \n",
        "    except:\n",
        "        print('Unable to load file')\n",
        "    finally:\n",
        "      return df  "
      ],
      "execution_count": 0,
      "outputs": []
    },
    {
      "cell_type": "markdown",
      "metadata": {
        "id": "zIsmihDeG-mJ",
        "colab_type": "text"
      },
      "source": [
        "#OpenDateBasedDataSet Unit Test\n",
        "\n",
        "\n",
        "\n"
      ]
    },
    {
      "cell_type": "code",
      "metadata": {
        "id": "8E0CAjzRGdx7",
        "colab_type": "code",
        "outputId": "ec577177-2704-4b9c-ac02-b77746985548",
        "colab": {
          "base_uri": "https://localhost:8080/",
          "height": 299
        }
      },
      "source": [
        "\n",
        "dfCols = ['Date', 'AveragePrice', 'Total_Volumne']\n",
        "dfFileName = 'avocado.cvs'\n",
        "opener = OpenDateBasedDataFrame('1Xc0UXq85rzY7ZYnl-HJ5JF4nc3SuEuHq')\n",
        "avocadoDF = opener.getDataFrame(dfCols)"
      ],
      "execution_count": 0,
      "outputs": [
        {
          "output_type": "error",
          "ename": "NameError",
          "evalue": "ignored",
          "traceback": [
            "\u001b[0;31m---------------------------------------------------------------------------\u001b[0m",
            "\u001b[0;31mNameError\u001b[0m                                 Traceback (most recent call last)",
            "\u001b[0;32m<ipython-input-7-130850deea08>\u001b[0m in \u001b[0;36m<module>\u001b[0;34m()\u001b[0m\n\u001b[1;32m      2\u001b[0m \u001b[0mdfCols\u001b[0m \u001b[0;34m=\u001b[0m \u001b[0;34m[\u001b[0m\u001b[0;34m'Date'\u001b[0m\u001b[0;34m,\u001b[0m \u001b[0;34m'AveragePrice'\u001b[0m\u001b[0;34m,\u001b[0m \u001b[0;34m'Total_Volumne'\u001b[0m\u001b[0;34m]\u001b[0m\u001b[0;34m\u001b[0m\u001b[0;34m\u001b[0m\u001b[0m\n\u001b[1;32m      3\u001b[0m \u001b[0mdfFileName\u001b[0m \u001b[0;34m=\u001b[0m \u001b[0;34m'avocado.cvs'\u001b[0m\u001b[0;34m\u001b[0m\u001b[0;34m\u001b[0m\u001b[0m\n\u001b[0;32m----> 4\u001b[0;31m \u001b[0mopener\u001b[0m \u001b[0;34m=\u001b[0m \u001b[0mOpenDateBasedDataFrame\u001b[0m\u001b[0;34m(\u001b[0m\u001b[0;34m'1Xc0UXq85rzY7ZYnl-HJ5JF4nc3SuEuHq'\u001b[0m\u001b[0;34m)\u001b[0m\u001b[0;34m\u001b[0m\u001b[0;34m\u001b[0m\u001b[0m\n\u001b[0m\u001b[1;32m      5\u001b[0m \u001b[0mavocadoDF\u001b[0m \u001b[0;34m=\u001b[0m \u001b[0mopener\u001b[0m\u001b[0;34m.\u001b[0m\u001b[0mgetDataFrame\u001b[0m\u001b[0;34m(\u001b[0m\u001b[0mdfCols\u001b[0m\u001b[0;34m)\u001b[0m\u001b[0;34m\u001b[0m\u001b[0;34m\u001b[0m\u001b[0m\n",
            "\u001b[0;32m<ipython-input-3-f20320b0beb3>\u001b[0m in \u001b[0;36m__init__\u001b[0;34m(self, fileId)\u001b[0m\n\u001b[1;32m      2\u001b[0m \u001b[0;34m\u001b[0m\u001b[0m\n\u001b[1;32m      3\u001b[0m   \u001b[0;32mdef\u001b[0m \u001b[0m__init__\u001b[0m\u001b[0;34m(\u001b[0m\u001b[0mself\u001b[0m\u001b[0;34m,\u001b[0m \u001b[0mfileId\u001b[0m\u001b[0;34m)\u001b[0m\u001b[0;34m:\u001b[0m\u001b[0;34m\u001b[0m\u001b[0;34m\u001b[0m\u001b[0m\n\u001b[0;32m----> 4\u001b[0;31m     \u001b[0mself\u001b[0m\u001b[0;34m.\u001b[0m\u001b[0mfile_id\u001b[0m \u001b[0;34m=\u001b[0m \u001b[0mfielId\u001b[0m\u001b[0;34m\u001b[0m\u001b[0;34m\u001b[0m\u001b[0m\n\u001b[0m",
            "\u001b[0;31mNameError\u001b[0m: name 'fielId' is not defined"
          ]
        }
      ]
    }
  ]
}