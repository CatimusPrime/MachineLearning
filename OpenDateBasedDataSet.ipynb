{
  "nbformat": 4,
  "nbformat_minor": 0,
  "metadata": {
    "colab": {
      "name": "OpenDateBasedDataSet.ipynb",
      "provenance": [],
      "collapsed_sections": [],
      "authorship_tag": "ABX9TyPlTYW7/Ow+pl14O9hKyrqQ",
      "include_colab_link": true
    },
    "kernelspec": {
      "name": "python3",
      "display_name": "Python 3"
    }
  },
  "cells": [
    {
      "cell_type": "markdown",
      "metadata": {
        "id": "view-in-github",
        "colab_type": "text"
      },
      "source": [
        "<a href=\"https://colab.research.google.com/github/CatimusPrime/MachineLearning/blob/master/OpenDateBasedDataSet.ipynb\" target=\"_parent\"><img src=\"https://colab.research.google.com/assets/colab-badge.svg\" alt=\"Open In Colab\"/></a>"
      ]
    },
    {
      "cell_type": "code",
      "metadata": {
        "id": "TyYBdoLzxYjK",
        "colab_type": "code",
        "colab": {}
      },
      "source": [
        "import pandas as pd\n",
        "\n",
        "from pydrive.auth import GoogleAuth\n",
        "from pydrive.drive import GoogleDrive\n",
        "from google.colab import auth\n",
        "from oauth2client.client import GoogleCredentials\n",
        "from oauth2client.client import GoogleCredentials\n",
        "\n",
        "#file_id = '1Xc0UXq85rzY7ZYnl-HJ5JF4nc3SuEuHq' #No Region Or Year '1i207eRSm-sQ4gGLFKhG9L5kzDVDhnLVl'\n",
        "\n",
        "\n",
        "def authenticate():\n",
        "  # Authenticate and create the PyDrive client.\n",
        "  # This only needs to be done once per notebook.\n",
        "  auth.authenticate_user()\n",
        "  gauth = GoogleAuth()\n",
        "  gauth.credentials = GoogleCredentials.get_application_default()\n",
        "  drive = GoogleDrive(gauth)\n",
        "\n",
        "\n",
        "def getDataFrame(fileID, cols, filename, dateIndexColName):\n",
        "  try:\n",
        "    authenticate()\n",
        "    data_file_meta = drive.CreateFile({'id':fileID})\n",
        "    data_file_meta.GetContentFile(filename)\n",
        "\n",
        "    mydateparser = lambda x: pd.datetime.strptime(x, '%Y-%m-%d')\n",
        "    \n",
        "    df = pd.read_csv(filename, \n",
        "                     header=0, \n",
        "                     parse_dates=[dateIndexColName], \n",
        "                     date_parser=mydateparser, \n",
        "                     index_col=[dateIndexColName],\n",
        "                     usecols=cols)\n",
        "  return df\n",
        "\n",
        "  except:\n",
        "    print('Unable to load file')\n"
      ],
      "execution_count": 0,
      "outputs": []
    }
  ]
}